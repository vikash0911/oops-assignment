{
  "nbformat": 4,
  "nbformat_minor": 0,
  "metadata": {
    "colab": {
      "provenance": []
    },
    "kernelspec": {
      "name": "python3",
      "display_name": "Python 3"
    },
    "language_info": {
      "name": "python"
    }
  },
  "cells": [
    {
      "cell_type": "markdown",
      "source": [
        "# Python OOPs Questions"
      ],
      "metadata": {
        "id": "tDwYJ8tJhYiS"
      }
    },
    {
      "cell_type": "markdown",
      "source": [
        "**1.** What is Object-Oriented Programming (OOP)?\n",
        "**ans** Object-Oriented Programming (OOP) is a programming paradigm that organizes software design around objects rather than functions or logic. An object is an instance of a class, which is a blueprint for creating objects. OOP focuses on structuring code in a way that data (attributes) and methods (functions) are bundled together in objects."
      ],
      "metadata": {
        "id": "3E_a0asDha_P"
      }
    },
    {
      "cell_type": "markdown",
      "source": [
        "**2.** What is a class in OOP?\n",
        "**ans-** In Object-Oriented Programming (OOP), a class is a blueprint or template for creating objects. A class defines a set of attributes (variables) and methods (functions) that an object of that class will have. It represents the structure and behavior of an object, but it is not an actual object itself."
      ],
      "metadata": {
        "id": "zgPUR2oCiHsm"
      }
    },
    {
      "cell_type": "markdown",
      "source": [
        "**3.** What is an object in OOP?\n",
        "**ans-** In Object-Oriented Programming (OOP), an object is an instance of a class. It is a self-contained unit that consists of both data (attributes or properties) and functions (methods) that operate on that data. Objects represent real-world entities or concepts and encapsulate the behavior and attributes that define those entities."
      ],
      "metadata": {
        "id": "T_PL_OqtiYbn"
      }
    },
    {
      "cell_type": "markdown",
      "source": [
        "**4.**  What is the difference between abstraction and encapsulation?\n",
        "**ans-** Abstraction hides the complexity of the system and only exposes essential details, focusing on what an object does. It’s implemented through abstract classes or interfaces.\n",
        "\n",
        "Encapsulation hides an object's internal data and provides controlled access to it via getter and setter methods, focusing on how data is accessed and modified."
      ],
      "metadata": {
        "id": "3d2F-_KzisqF"
      }
    },
    {
      "cell_type": "markdown",
      "source": [
        "**5.**  What are dunder methods in Python?\n",
        "**ans-** Dunder methods (short for \"double underscore methods\") in Python are special methods that have double underscores at both the beginning and end of their names, such as __init__, __str__, and __add__. These methods are also called magic methods or special methods, and they allow you to define the behavior of objects in various scenarios."
      ],
      "metadata": {
        "id": "KUdnNI0YjCHI"
      }
    },
    {
      "cell_type": "markdown",
      "source": [
        "**6.**  Explain the concept of inheritance in OOP.\n",
        "**ans-** Inheritance is a fundamental concept in Object-Oriented Programming (OOP) that allows a new class to inherit the properties and behaviors (methods and attributes) of an existing class. This provides a way to create a hierarchical relationship between classes and facilitates code reuse, making the code more modular, efficient, and easier to maintain."
      ],
      "metadata": {
        "id": "j5Nqh1tyjZbI"
      }
    },
    {
      "cell_type": "markdown",
      "source": [
        "**7.**  What is polymorphism in OOP?\n",
        "**ans-** Polymorphism is a key concept in Object-Oriented Programming (OOP) that allows objects of different classes to be treated as objects of a common superclass. The term polymorphism means \"many shapes\" and refers to the ability of different objects to respond to the same method or operator in their own unique way."
      ],
      "metadata": {
        "id": "u4wx3EUij1o0"
      }
    },
    {
      "cell_type": "markdown",
      "source": [
        "**8.**  How is encapsulation achieved in Python?\n",
        "**ans-** Encapsulation is one of the four fundamental principles of Object-Oriented Programming (OOP), the others being inheritance, polymorphism, and abstraction. It refers to the concept of bundling data (attributes) and methods (functions) that operate on the data into a single unit called a class. In addition, encapsulation involves restricting access to certain details of an object’s implementation, allowing the object’s state to be modified only through its defined methods. This helps protect the object's integrity by preventing direct access to its internal data."
      ],
      "metadata": {
        "id": "-BviuTOhkPJE"
      }
    },
    {
      "cell_type": "markdown",
      "source": [
        "**9.**  What is a constructor in Python?\n",
        "**ans-** In Python, a constructor is a special method that is automatically called when an object of a class is created. It is used to initialize the object's attributes (properties) with default or given values. Constructors allow the programmer to set the initial state of the object when it is created."
      ],
      "metadata": {
        "id": "n5igDK-_ke8Z"
      }
    },
    {
      "cell_type": "markdown",
      "source": [
        "**10.** What are class and static methods in Python?\n",
        "**ans-** Class Methods in Python\n",
        "A class method is a method that is bound to the class and not the instance of the class. It can access and modify the class state, but not the instance state. Class methods are used when the method needs to operate on the class itself, rather than on individual instances.\n",
        "Static Methods in Python\n",
        "A static method is a method that does not modify or access the class or instance state. It behaves like a regular function but belongs to the class's namespace. Static methods are used when the method's functionality is related to the class but does not need access to the class or instance data."
      ],
      "metadata": {
        "id": "4N3neznpkwM2"
      }
    },
    {
      "cell_type": "markdown",
      "source": [
        "**11.** What is method overloading in Python?\n",
        "**ans-** Method overloading is a concept where two or more methods in the same class have the same name but different parameters (e.g., different number of arguments, or different types of arguments). In languages like Java or C++, this is directly supported, but Python does not have built-in support for method overloading in the traditional sense."
      ],
      "metadata": {
        "id": "ES7RCgBGlHdo"
      }
    },
    {
      "cell_type": "markdown",
      "source": [
        "**12.** What is method overriding in OOP?\n",
        "**ans-** Method overriding is a concept in Object-Oriented Programming (OOP) where a subclass (child class) provides its own implementation of a method that is already defined in its superclass (parent class). The method in the subclass must have the same name, parameters, and return type as the method in the parent class."
      ],
      "metadata": {
        "id": "x42UiAiGlgjr"
      }
    },
    {
      "cell_type": "markdown",
      "source": [
        "**13.** What is a property decorator in Python?\n",
        "**ans-** In Python, the @property decorator is used to define a method as a getter for a class attribute, allowing it to be accessed like an attribute, but with additional control over getting, setting, or deleting the value.\n",
        "\n",
        "The @property decorator makes a method act like an attribute rather than a regular method. This means that you can access the method without parentheses, making the code more readable, while still keeping control over how the attribute is accessed or modified."
      ],
      "metadata": {
        "id": "pCvq2U08l6kh"
      }
    },
    {
      "cell_type": "markdown",
      "source": [],
      "metadata": {
        "id": "az-dUdU2mLhI"
      }
    }
  ]
}